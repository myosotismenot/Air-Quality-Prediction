{
 "cells": [
  {
   "cell_type": "code",
   "execution_count": 1,
   "id": "03fbed7d-4ff0-4592-b92d-98619bcd561a",
   "metadata": {},
   "outputs": [],
   "source": [
    "import openmeteo_requests\n",
    "\n",
    "import pandas as pd\n",
    "import requests_cache\n",
    "from retry_requests import retry"
   ]
  },
  {
   "cell_type": "code",
   "execution_count": 2,
   "id": "599c02cf-3730-4017-b581-8568877789ab",
   "metadata": {},
   "outputs": [],
   "source": [
    "cache_session = requests_cache.CachedSession('.cache', expire_after = -1)\n",
    "retry_session = retry(cache_session, retries = 5, backoff_factor = 0.2)\n",
    "openmeteo = openmeteo_requests.Client(session = retry_session)"
   ]
  },
  {
   "cell_type": "code",
   "execution_count": 16,
   "id": "bb421dfc-6133-4950-9d84-d66f5bd99db0",
   "metadata": {},
   "outputs": [],
   "source": [
    "url = \"https://archive-api.open-meteo.com/v1/archive\"\n",
    "params = {\n",
    "\t\"latitude\": 34.0588,\n",
    "\t\"longitude\": -118.4439,\n",
    "\t\"start_date\": \"2024-04-01\",\n",
    "\t\"end_date\": \"2024-06-30\",\n",
    "\t\"hourly\": [\"temperature_2m\", \"precipitation\", \"relative_humidity_2m\", \"cloud_cover\"]\n",
    "}\n",
    "responses = openmeteo.weather_api(url, params=params)"
   ]
  },
  {
   "cell_type": "code",
   "execution_count": 17,
   "id": "80ae9980-f68a-4652-8ea5-60f63c305702",
   "metadata": {},
   "outputs": [
    {
     "name": "stdout",
     "output_type": "stream",
     "text": [
      "Coordinates 34.05975341796875°N -118.46250915527344°E\n",
      "Elevation 103.0 m asl\n",
      "Timezone NoneNone\n",
      "Timezone difference to GMT+0 0 s\n"
     ]
    }
   ],
   "source": [
    "response = responses[0]\n",
    "print(f\"Coordinates {response.Latitude()}°N {response.Longitude()}°E\")\n",
    "print(f\"Elevation {response.Elevation()} m asl\")\n",
    "print(f\"Timezone {response.Timezone()}{response.TimezoneAbbreviation()}\")\n",
    "print(f\"Timezone difference to GMT+0 {response.UtcOffsetSeconds()} s\")"
   ]
  },
  {
   "cell_type": "code",
   "execution_count": 18,
   "id": "31543c28-5426-4297-8c92-d58212d81eec",
   "metadata": {},
   "outputs": [
    {
     "name": "stdout",
     "output_type": "stream",
     "text": [
      "                          date  temperature_2m  precipitation  \\\n",
      "0    2024-04-01 00:00:00+00:00       14.844999            0.1   \n",
      "1    2024-04-01 01:00:00+00:00       12.295000            0.2   \n",
      "2    2024-04-01 02:00:00+00:00       11.594999            0.3   \n",
      "3    2024-04-01 03:00:00+00:00       10.945000            0.0   \n",
      "4    2024-04-01 04:00:00+00:00        9.995000            0.0   \n",
      "...                        ...             ...            ...   \n",
      "2179 2024-06-30 19:00:00+00:00       28.195000            0.0   \n",
      "2180 2024-06-30 20:00:00+00:00       28.844999            0.0   \n",
      "2181 2024-06-30 21:00:00+00:00       28.994999            0.0   \n",
      "2182 2024-06-30 22:00:00+00:00       29.494999            0.0   \n",
      "2183 2024-06-30 23:00:00+00:00       29.295000            0.0   \n",
      "\n",
      "      relative_humidity_2m  cloud_cover  \n",
      "0                71.525261         65.0  \n",
      "1                78.935852         69.0  \n",
      "2                84.068306         65.0  \n",
      "3                87.766647         38.0  \n",
      "4                91.011398         31.0  \n",
      "...                    ...          ...  \n",
      "2179             44.723022          9.0  \n",
      "2180             38.077976          7.0  \n",
      "2181             34.095581         18.0  \n",
      "2182             33.454391          9.0  \n",
      "2183             30.943666         14.0  \n",
      "\n",
      "[2184 rows x 5 columns]\n"
     ]
    }
   ],
   "source": [
    "hourly = response.Hourly()\n",
    "hourly_temperature_2m = hourly.Variables(0).ValuesAsNumpy()\n",
    "hourly_precipitation = hourly.Variables(1).ValuesAsNumpy()\n",
    "hourly_relative_humidity_2m = hourly.Variables(2).ValuesAsNumpy()\n",
    "hourly_cloud_cover = hourly.Variables(3).ValuesAsNumpy()\n",
    "\n",
    "hourly_data = {\"date\": pd.date_range(\n",
    "\tstart = pd.to_datetime(hourly.Time(), unit = \"s\", utc = True),\n",
    "\tend = pd.to_datetime(hourly.TimeEnd(), unit = \"s\", utc = True),\n",
    "\tfreq = pd.Timedelta(seconds = hourly.Interval()),\n",
    "\tinclusive = \"left\"\n",
    ")}\n",
    "\n",
    "hourly_data[\"temperature_2m\"] = hourly_temperature_2m\n",
    "hourly_data[\"precipitation\"] = hourly_precipitation\n",
    "hourly_data[\"relative_humidity_2m\"] = hourly_relative_humidity_2m\n",
    "hourly_data[\"cloud_cover\"] = hourly_cloud_cover\n",
    "\n",
    "hourly_dataframe = pd.DataFrame(data = hourly_data)\n",
    "print(hourly_dataframe)"
   ]
  },
  {
   "cell_type": "code",
   "execution_count": 19,
   "id": "0091a0e8-a9b3-46ef-896a-b0f86cb3c135",
   "metadata": {},
   "outputs": [],
   "source": [
    "# Change title of csv based on retrieved data\n",
    "hourly_dataframe.to_csv('spring-2024-weather.csv', index = False)"
   ]
  },
  {
   "cell_type": "code",
   "execution_count": null,
   "id": "3afb0132-8d8c-4122-8e63-0ed1a8d37c0b",
   "metadata": {},
   "outputs": [],
   "source": []
  }
 ],
 "metadata": {
  "kernelspec": {
   "display_name": "Python 3 (ipykernel)",
   "language": "python",
   "name": "python3"
  },
  "language_info": {
   "codemirror_mode": {
    "name": "ipython",
    "version": 3
   },
   "file_extension": ".py",
   "mimetype": "text/x-python",
   "name": "python",
   "nbconvert_exporter": "python",
   "pygments_lexer": "ipython3",
   "version": "3.12.10"
  }
 },
 "nbformat": 4,
 "nbformat_minor": 5
}
