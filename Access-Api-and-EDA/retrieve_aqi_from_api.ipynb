{
 "cells": [
  {
   "cell_type": "code",
   "execution_count": 1,
   "id": "b609889f-046e-479f-82f6-fe8ef124d07e",
   "metadata": {},
   "outputs": [],
   "source": [
    "import openmeteo_requests\n",
    "\n",
    "import requests_cache\n",
    "import pandas as pd\n",
    "from retry_requests import retry"
   ]
  },
  {
   "cell_type": "code",
   "execution_count": 2,
   "id": "579852bb-54cc-4057-b992-f05edb4cc125",
   "metadata": {},
   "outputs": [],
   "source": [
    "cache_session = requests_cache.CachedSession('.cache', expire_after = 3600)\n",
    "retry_session = retry(cache_session, retries = 5, backoff_factor = 0.2)\n",
    "openmeteo = openmeteo_requests.Client(session = retry_session)"
   ]
  },
  {
   "cell_type": "code",
   "execution_count": 28,
   "id": "db70ac0c-1eca-485f-aa77-08c98d90397e",
   "metadata": {},
   "outputs": [],
   "source": [
    "url = \"https://air-quality-api.open-meteo.com/v1/air-quality\"\n",
    "\n",
    "# in params, can change date for time frame desired (max 3 month window at a time)\n",
    "\n",
    "params = {\n",
    "\t\"latitude\": 34.0588,\n",
    "\t\"longitude\": -118.4439,\n",
    "\t\"hourly\": [\"pm10\", \"pm2_5\", \"carbon_monoxide\"],\n",
    "\t\"start_date\": \"2025-01-01\",\n",
    "\t\"end_date\": \"2025-03-31\"\n",
    "}\n",
    "responses = openmeteo.weather_api(url, params=params)"
   ]
  },
  {
   "cell_type": "code",
   "execution_count": 29,
   "id": "4e3fec36-0c66-4339-aa33-cd51172c68c7",
   "metadata": {},
   "outputs": [
    {
     "name": "stdout",
     "output_type": "stream",
     "text": [
      "Coordinates 34.099998474121094°N -118.39999389648438°E\n",
      "Elevation 103.0 m asl\n",
      "Timezone NoneNone\n",
      "Timezone difference to GMT+0 0 s\n"
     ]
    }
   ],
   "source": [
    "response = responses[0]\n",
    "print(f\"Coordinates {response.Latitude()}°N {response.Longitude()}°E\")\n",
    "print(f\"Elevation {response.Elevation()} m asl\")\n",
    "print(f\"Timezone {response.Timezone()}{response.TimezoneAbbreviation()}\")\n",
    "print(f\"Timezone difference to GMT+0 {response.UtcOffsetSeconds()} s\")"
   ]
  },
  {
   "cell_type": "code",
   "execution_count": 30,
   "id": "7a750321-c1fe-464c-8c08-5af735efec80",
   "metadata": {},
   "outputs": [],
   "source": [
    "hourly = response.Hourly()\n",
    "hourly_pm10 = hourly.Variables(0).ValuesAsNumpy()\n",
    "hourly_pm2_5 = hourly.Variables(1).ValuesAsNumpy()\n",
    "hourly_carbon_monoxide = hourly.Variables(2).ValuesAsNumpy()\n",
    "\n",
    "hourly_data = {\"date\": pd.date_range(\n",
    "\tstart = pd.to_datetime(hourly.Time(), unit = \"s\", utc = True),\n",
    "\tend = pd.to_datetime(hourly.TimeEnd(), unit = \"s\", utc = True),\n",
    "\tfreq = pd.Timedelta(seconds = hourly.Interval()),\n",
    "\tinclusive = \"left\"\n",
    ")}"
   ]
  },
  {
   "cell_type": "code",
   "execution_count": 31,
   "id": "0ca42a4c-3e78-43a0-94ce-6a1f3599b462",
   "metadata": {},
   "outputs": [],
   "source": [
    "hourly_data[\"pm10\"] = hourly_pm10\n",
    "hourly_data[\"pm2_5\"] = hourly_pm2_5\n",
    "hourly_data[\"carbon_monoxide\"] = hourly_carbon_monoxide"
   ]
  },
  {
   "cell_type": "code",
   "execution_count": 32,
   "id": "adfb037b-9363-4f06-a3e6-d4f1aabb3d5e",
   "metadata": {},
   "outputs": [
    {
     "name": "stdout",
     "output_type": "stream",
     "text": [
      "                          date       pm10      pm2_5  carbon_monoxide\n",
      "0    2025-01-01 00:00:00+00:00  24.200001  23.299999            409.0\n",
      "1    2025-01-01 01:00:00+00:00  29.700001  29.100000            508.0\n",
      "2    2025-01-01 02:00:00+00:00  35.400002  34.799999            654.0\n",
      "3    2025-01-01 03:00:00+00:00  38.200001  37.700001            787.0\n",
      "4    2025-01-01 04:00:00+00:00  42.799999  42.400002            910.0\n",
      "...                        ...        ...        ...              ...\n",
      "2155 2025-03-31 19:00:00+00:00  12.900000  10.700000            227.0\n",
      "2156 2025-03-31 20:00:00+00:00  11.800000   9.800000            186.0\n",
      "2157 2025-03-31 21:00:00+00:00  12.300000  10.200000            157.0\n",
      "2158 2025-03-31 22:00:00+00:00  11.500000   9.500000            152.0\n",
      "2159 2025-03-31 23:00:00+00:00  10.100000   8.400000            160.0\n",
      "\n",
      "[2160 rows x 4 columns]\n"
     ]
    }
   ],
   "source": [
    "hourly_dataframe = pd.DataFrame(data = hourly_data)\n",
    "print(hourly_dataframe)\n"
   ]
  },
  {
   "cell_type": "code",
   "execution_count": 33,
   "id": "0f174315-699b-4d6a-8b3c-4d5148e88f75",
   "metadata": {},
   "outputs": [],
   "source": [
    "# Change title of csv based on retrieved data\n",
    "hourly_dataframe.to_csv('winter-2025-aqi.csv', index = False)"
   ]
  },
  {
   "cell_type": "code",
   "execution_count": null,
   "id": "3ffb639c-3cbf-44b3-a019-36c72f817990",
   "metadata": {},
   "outputs": [],
   "source": []
  }
 ],
 "metadata": {
  "kernelspec": {
   "display_name": "Python 3 (ipykernel)",
   "language": "python",
   "name": "python3"
  },
  "language_info": {
   "codemirror_mode": {
    "name": "ipython",
    "version": 3
   },
   "file_extension": ".py",
   "mimetype": "text/x-python",
   "name": "python",
   "nbconvert_exporter": "python",
   "pygments_lexer": "ipython3",
   "version": "3.12.10"
  }
 },
 "nbformat": 4,
 "nbformat_minor": 5
}
